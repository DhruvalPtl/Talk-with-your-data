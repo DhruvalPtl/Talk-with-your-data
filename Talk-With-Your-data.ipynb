{
 "cells": [
  {
   "cell_type": "code",
   "execution_count": null,
   "metadata": {
    "vscode": {
     "languageId": "plaintext"
    }
   },
   "outputs": [],
   "source": [
    "#Talk With Your Data\n",
    "import streamlit as st\n",
    "import google.generativeai as genai\n",
    "import pandas as pd\n",
    "\n",
    "def read_file():\n",
    "    # Read the CSV file\n",
    "    df = pd.read_csv('data.csv')\n",
    "    return df\n",
    "\n",
    "api_key = st.secrets[\"API_KEY\"]\n",
    "genai.configure(api_key=api_key)\n",
    "model_name = \"gemini-1.5-flash\"\n",
    "model = genai.GenerativeModel(model_name=model_name)\n",
    "\n",
    "\n",
    "st.title(\"Talk With Your Data\")\n",
    "with st.sidebar:\n",
    "    st.write(\"This is a sidebar\")\n",
    "    st.text_input(\"API key\",type=\"password\")\n",
    "    file = st.file_uploader(\"Upload CSV file\")\n",
    "\n",
    "if \"messages\" not in st.session_state:\n",
    "    st.session_state.messages = []\n",
    "    \n",
    "for message in st.session_state.messages:\n",
    "    with st.chat_message(message[\"role\"]):\n",
    "        st.markdown(message[\"content\"])\n",
    "    \n",
    "if prompt := st.chat_input():\n",
    "    st.session_state.messages.append({\"role\":\"human\",\"content\": prompt})\n",
    "    st.chat_message(\"human\").write(prompt)\n",
    "    response = model.generate_content(prompt)\n",
    "    st.session_state.messages.append({\"role\":\"ai\",\"content\": response.text})\n",
    "    st.chat_message(\"ai\").write(response.text)"
   ]
  }
 ],
 "metadata": {
  "language_info": {
   "name": "python"
  }
 },
 "nbformat": 4,
 "nbformat_minor": 2
}
